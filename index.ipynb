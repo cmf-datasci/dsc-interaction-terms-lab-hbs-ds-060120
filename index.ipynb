{
 "cells": [
  {
   "cell_type": "markdown",
   "metadata": {},
   "source": [
    "# Interactions - Lab"
   ]
  },
  {
   "cell_type": "markdown",
   "metadata": {},
   "source": [
    "## Introduction"
   ]
  },
  {
   "cell_type": "markdown",
   "metadata": {},
   "source": [
    "In this lab, you'll explore interactions in the Ames Housing dataset."
   ]
  },
  {
   "cell_type": "markdown",
   "metadata": {},
   "source": [
    "## Objectives"
   ]
  },
  {
   "cell_type": "markdown",
   "metadata": {},
   "source": [
    "You will be able to:\n",
    "- Implement interaction terms in Python using the `sklearn` and `statsmodels` packages \n",
    "- Interpret interaction variables in the context of a real-world problem "
   ]
  },
  {
   "cell_type": "markdown",
   "metadata": {},
   "source": [
    "## Build a baseline model "
   ]
  },
  {
   "cell_type": "markdown",
   "metadata": {},
   "source": [
    "You'll use a couple of built-in functions, which we imported for you below: "
   ]
  },
  {
   "cell_type": "code",
   "execution_count": 12,
   "metadata": {},
   "outputs": [],
   "source": [
    "from sklearn.linear_model import LinearRegression\n",
    "from sklearn.model_selection import cross_val_score\n",
    "from sklearn.model_selection import KFold\n",
    "import pandas as pd\n",
    "import numpy as np\n",
    "import matplotlib.pyplot as plt"
   ]
  },
  {
   "cell_type": "markdown",
   "metadata": {},
   "source": [
    "If you still want to build a model in the end, you can do that, but this lab will just focus on finding meaningful insights in interactions and how they can improve $R^2$ values."
   ]
  },
  {
   "cell_type": "code",
   "execution_count": 13,
   "metadata": {},
   "outputs": [],
   "source": [
    "regression = LinearRegression()"
   ]
  },
  {
   "cell_type": "markdown",
   "metadata": {},
   "source": [
    "Create a baseline model which includes all the variables we selected from the Ames housing data set to predict the house prices. Then use 10-fold cross-validation and report the mean $R^2$ value as the baseline $R^2$."
   ]
  },
  {
   "cell_type": "code",
   "execution_count": 14,
   "metadata": {},
   "outputs": [
    {
     "data": {
      "text/plain": [
       "0.7773817128043181"
      ]
     },
     "execution_count": 14,
     "metadata": {},
     "output_type": "execute_result"
    }
   ],
   "source": [
    "ames = pd.read_csv('ames.csv')\n",
    "\n",
    "continuous = ['LotArea', '1stFlrSF', 'GrLivArea', 'SalePrice']\n",
    "categoricals = ['BldgType', 'KitchenQual', 'SaleType', 'MSZoning', 'Street', 'Neighborhood']\n",
    "\n",
    "ames_cont = ames[continuous]\n",
    "\n",
    "# log features\n",
    "log_names = [f'{column}_log' for column in ames_cont.columns]\n",
    "\n",
    "ames_log = np.log(ames_cont)\n",
    "ames_log.columns = log_names\n",
    "\n",
    "# normalize (subract mean and divide by std)\n",
    "\n",
    "def normalize(feature):\n",
    "    return (feature - feature.mean()) / feature.std()\n",
    "\n",
    "ames_log_norm = ames_log.apply(normalize)\n",
    "\n",
    "# one hot encode categoricals\n",
    "ames_ohe = pd.get_dummies(ames[categoricals], prefix=categoricals)\n",
    "\n",
    "preprocessed = pd.concat([ames_cont, ames_ohe], axis=1)\n",
    "\n",
    "X = preprocessed.drop('SalePrice', axis=1)\n",
    "y = preprocessed['SalePrice']\n",
    "\n",
    "crossvalidation = KFold(n_splits=10, shuffle=True, random_state=1)\n",
    "baseline = np.mean(cross_val_score(regression, X, y, scoring='r2', cv=crossvalidation))\n",
    "\n",
    "baseline"
   ]
  },
  {
   "cell_type": "markdown",
   "metadata": {},
   "source": [
    "## See how interactions improve your baseline"
   ]
  },
  {
   "cell_type": "markdown",
   "metadata": {},
   "source": [
    "Next, create all possible combinations of interactions, loop over them and add them to the baseline model one by one to see how they affect the $R^2$. We'll look at the 3 interactions which have the biggest effect on our $R^2$, so print out the top 3 combinations.\n",
    "\n",
    "You will create a `for` loop to loop through all the combinations of 2 predictors. You can use `combinations` from itertools to create a list of all the pairwise combinations. To find more info on how this is done, have a look [here](https://docs.python.org/2/library/itertools.html).\n",
    "\n",
    "Since there are so many different neighbourhoods we will exclude"
   ]
  },
  {
   "cell_type": "code",
   "execution_count": 15,
   "metadata": {},
   "outputs": [
    {
     "data": {
      "text/plain": [
       "Index(['LotArea', '1stFlrSF', 'GrLivArea', 'SalePrice', 'BldgType_1Fam',\n",
       "       'BldgType_2fmCon', 'BldgType_Duplex', 'BldgType_Twnhs',\n",
       "       'BldgType_TwnhsE', 'KitchenQual_Ex', 'KitchenQual_Fa', 'KitchenQual_Gd',\n",
       "       'KitchenQual_TA', 'SaleType_COD', 'SaleType_CWD', 'SaleType_Con',\n",
       "       'SaleType_ConLD', 'SaleType_ConLI', 'SaleType_ConLw', 'SaleType_New',\n",
       "       'SaleType_Oth', 'SaleType_WD', 'MSZoning_C (all)', 'MSZoning_FV',\n",
       "       'MSZoning_RH', 'MSZoning_RL', 'MSZoning_RM', 'Street_Grvl',\n",
       "       'Street_Pave', 'Neighborhood_Blmngtn', 'Neighborhood_Blueste',\n",
       "       'Neighborhood_BrDale', 'Neighborhood_BrkSide', 'Neighborhood_ClearCr',\n",
       "       'Neighborhood_CollgCr', 'Neighborhood_Crawfor', 'Neighborhood_Edwards',\n",
       "       'Neighborhood_Gilbert', 'Neighborhood_IDOTRR', 'Neighborhood_MeadowV',\n",
       "       'Neighborhood_Mitchel', 'Neighborhood_NAmes', 'Neighborhood_NPkVill',\n",
       "       'Neighborhood_NWAmes', 'Neighborhood_NoRidge', 'Neighborhood_NridgHt',\n",
       "       'Neighborhood_OldTown', 'Neighborhood_SWISU', 'Neighborhood_Sawyer',\n",
       "       'Neighborhood_SawyerW', 'Neighborhood_Somerst', 'Neighborhood_StoneBr',\n",
       "       'Neighborhood_Timber', 'Neighborhood_Veenker'],\n",
       "      dtype='object')"
      ]
     },
     "execution_count": 15,
     "metadata": {},
     "output_type": "execute_result"
    }
   ],
   "source": [
    "preprocessed.columns"
   ]
  },
  {
   "cell_type": "code",
   "execution_count": 5,
   "metadata": {},
   "outputs": [],
   "source": [
    "from itertools import combinations"
   ]
  },
  {
   "cell_type": "code",
   "execution_count": 6,
   "metadata": {},
   "outputs": [],
   "source": [
    "preprocessed_new = [col for col in preprocessed.columns if 'Neighborhood' not in col]"
   ]
  },
  {
   "cell_type": "code",
   "execution_count": 7,
   "metadata": {},
   "outputs": [
    {
     "data": {
      "text/plain": [
       "['LotArea',\n",
       " '1stFlrSF',\n",
       " 'GrLivArea',\n",
       " 'SalePrice',\n",
       " 'BldgType_1Fam',\n",
       " 'BldgType_2fmCon',\n",
       " 'BldgType_Duplex',\n",
       " 'BldgType_Twnhs',\n",
       " 'BldgType_TwnhsE',\n",
       " 'KitchenQual_Ex',\n",
       " 'KitchenQual_Fa',\n",
       " 'KitchenQual_Gd',\n",
       " 'KitchenQual_TA',\n",
       " 'SaleType_COD',\n",
       " 'SaleType_CWD',\n",
       " 'SaleType_Con',\n",
       " 'SaleType_ConLD',\n",
       " 'SaleType_ConLI',\n",
       " 'SaleType_ConLw',\n",
       " 'SaleType_New',\n",
       " 'SaleType_Oth',\n",
       " 'SaleType_WD',\n",
       " 'MSZoning_C (all)',\n",
       " 'MSZoning_FV',\n",
       " 'MSZoning_RH',\n",
       " 'MSZoning_RL',\n",
       " 'MSZoning_RM',\n",
       " 'Street_Grvl',\n",
       " 'Street_Pave']"
      ]
     },
     "execution_count": 7,
     "metadata": {},
     "output_type": "execute_result"
    }
   ],
   "source": [
    "preprocessed_new"
   ]
  },
  {
   "cell_type": "code",
   "execution_count": 16,
   "metadata": {},
   "outputs": [],
   "source": [
    "# List of Iteractions\n",
    "\n",
    "list_r2 = []\n",
    "\n",
    "for i,j in combinations(X.columns,2):\n",
    "    preprocessed['new'] = preprocessed[i] * preprocessed[j]\n",
    "    X = preprocessed.drop('SalePrice', axis=1)\n",
    "    y = preprocessed['SalePrice']\n",
    "    crossvalidation = KFold(n_splits=10, shuffle=True, random_state=1)\n",
    "    score = np.mean(cross_val_score(regression, X, y, scoring=\"r2\", cv=crossvalidation))\n",
    "    if score>baseline:\n",
    "        list_r2.append([score, i, j])\n",
    "        "
   ]
  },
  {
   "cell_type": "code",
   "execution_count": 17,
   "metadata": {},
   "outputs": [
    {
     "data": {
      "text/plain": [
       "[[0.7785627748247997, 'LotArea', 'BldgType_1Fam'],\n",
       " [0.7786003663406829, 'LotArea', 'BldgType_2fmCon'],\n",
       " [0.777824460199203, 'LotArea', 'SaleType_Con'],\n",
       " [0.777487685502375, 'LotArea', 'SaleType_ConLI'],\n",
       " [0.7931246124301738, 'LotArea', 'SaleType_New'],\n",
       " [0.7780175799515525, 'LotArea', 'SaleType_Oth'],\n",
       " [0.7906354461190326, 'LotArea', 'SaleType_WD'],\n",
       " [0.7780360916913185, 'LotArea', 'Street_Grvl'],\n",
       " [0.7780076249845522, 'LotArea', 'Street_Pave'],\n",
       " [0.7773937855773132, 'LotArea', 'Neighborhood_Blueste'],\n",
       " [0.7784720543767641, 'LotArea', 'Neighborhood_BrkSide'],\n",
       " [0.8093314939294878, 'LotArea', 'Neighborhood_Edwards'],\n",
       " [0.7783501453206385, 'LotArea', 'Neighborhood_Mitchel'],\n",
       " [0.7783820923640901, 'LotArea', 'Neighborhood_NoRidge'],\n",
       " [0.7837853111901494, 'LotArea', 'Neighborhood_NridgHt'],\n",
       " [0.778059635795288, 'LotArea', 'Neighborhood_OldTown'],\n",
       " [0.7774192053512542, 'LotArea', 'Neighborhood_Sawyer'],\n",
       " [0.7780438658290307, 'LotArea', 'Neighborhood_SawyerW'],\n",
       " [0.7777232679879511, '1stFlrSF', 'BldgType_2fmCon'],\n",
       " [0.7788389385832108, '1stFlrSF', 'BldgType_Duplex'],\n",
       " [0.7822396599316803, '1stFlrSF', 'KitchenQual_Gd'],\n",
       " [0.7775343089857228, '1stFlrSF', 'SaleType_COD'],\n",
       " [0.7781909116093404, '1stFlrSF', 'SaleType_Con'],\n",
       " [0.7778506912508921, '1stFlrSF', 'MSZoning_FV'],\n",
       " [0.7774940416286205, '1stFlrSF', 'MSZoning_RL'],\n",
       " [0.7773861873149028, '1stFlrSF', 'Neighborhood_Blueste'],\n",
       " [0.8033414554230696, '1stFlrSF', 'Neighborhood_Edwards'],\n",
       " [0.7826567131572615, '1stFlrSF', 'Neighborhood_NoRidge'],\n",
       " [0.7845792550852393, '1stFlrSF', 'Neighborhood_NridgHt'],\n",
       " [0.7781137937971936, '1stFlrSF', 'Neighborhood_SWISU'],\n",
       " [0.777847621635549, '1stFlrSF', 'Neighborhood_Sawyer'],\n",
       " [0.7781325876726486, '1stFlrSF', 'Neighborhood_Somerst'],\n",
       " [0.7806791115140912, '1stFlrSF', 'Neighborhood_StoneBr'],\n",
       " [0.7811744839801422, '1stFlrSF', 'Neighborhood_Veenker'],\n",
       " [0.778352047902451, 'GrLivArea', 'BldgType_1Fam'],\n",
       " [0.7795445540324469, 'GrLivArea', 'BldgType_Duplex'],\n",
       " [0.7819495257069813, 'GrLivArea', 'KitchenQual_Gd'],\n",
       " [0.7777224754304134, 'GrLivArea', 'KitchenQual_TA'],\n",
       " [0.7776604210888516, 'GrLivArea', 'SaleType_Con'],\n",
       " [0.7774906255853716, 'GrLivArea', 'SaleType_ConLw'],\n",
       " [0.7777875306261812, 'GrLivArea', 'MSZoning_FV'],\n",
       " [0.7773856871086514, 'GrLivArea', 'Neighborhood_Blueste'],\n",
       " [0.7789092748986748, 'GrLivArea', 'Neighborhood_CollgCr'],\n",
       " [0.8077114235220242, 'GrLivArea', 'Neighborhood_Edwards'],\n",
       " [0.7930790499032527, 'GrLivArea', 'Neighborhood_NoRidge'],\n",
       " [0.7830123744521423, 'GrLivArea', 'Neighborhood_NridgHt'],\n",
       " [0.7777639775505831, 'GrLivArea', 'Neighborhood_Sawyer'],\n",
       " [0.7778961896038268, 'GrLivArea', 'Neighborhood_SawyerW'],\n",
       " [0.7778635604127915, 'GrLivArea', 'Neighborhood_Somerst'],\n",
       " [0.7800308679663965, 'GrLivArea', 'Neighborhood_StoneBr'],\n",
       " [0.7774796342547733, 'GrLivArea', 'Neighborhood_Timber'],\n",
       " [0.7781153777910912, 'GrLivArea', 'Neighborhood_Veenker'],\n",
       " [0.7775690926836023, 'BldgType_1Fam', 'KitchenQual_Ex'],\n",
       " [0.7773904337731963, 'BldgType_1Fam', 'KitchenQual_Fa'],\n",
       " [0.7784772651405093, 'BldgType_1Fam', 'KitchenQual_TA'],\n",
       " [0.777508844637717, 'BldgType_1Fam', 'SaleType_Con'],\n",
       " [0.7774803891451648, 'BldgType_1Fam', 'SaleType_Oth'],\n",
       " [0.7780151992544315, 'BldgType_1Fam', 'SaleType_WD'],\n",
       " [0.7776121551324713, 'BldgType_1Fam', 'MSZoning_FV'],\n",
       " [0.7799165483071961, 'BldgType_1Fam', 'MSZoning_RL'],\n",
       " [0.7788528032243451, 'BldgType_1Fam', 'MSZoning_RM'],\n",
       " [0.7776804536184361, 'BldgType_1Fam', 'Neighborhood_BrkSide'],\n",
       " [0.7773817128043259, 'BldgType_1Fam', 'Neighborhood_ClearCr'],\n",
       " [0.778002697644807, 'BldgType_1Fam', 'Neighborhood_Crawfor'],\n",
       " [0.7792424301009562, 'BldgType_1Fam', 'Neighborhood_Edwards'],\n",
       " [0.7774247229747114, 'BldgType_1Fam', 'Neighborhood_Mitchel'],\n",
       " [0.7773817128043199, 'BldgType_1Fam', 'Neighborhood_NoRidge'],\n",
       " [0.7803822875268722, 'BldgType_1Fam', 'Neighborhood_NridgHt'],\n",
       " [0.7775447019713424, 'BldgType_1Fam', 'Neighborhood_SWISU'],\n",
       " [0.7777390261742065, 'BldgType_1Fam', 'Neighborhood_Sawyer'],\n",
       " [0.7776121551324632, 'BldgType_1Fam', 'Neighborhood_Somerst'],\n",
       " [0.7822461647629914, 'BldgType_1Fam', 'Neighborhood_StoneBr'],\n",
       " [0.7779528409692175, 'BldgType_1Fam', 'Neighborhood_Timber'],\n",
       " [0.7777907317356242, 'BldgType_2fmCon', 'Street_Grvl'],\n",
       " [0.7778937189067154, 'BldgType_2fmCon', 'Street_Pave'],\n",
       " [0.7774552895507106, 'BldgType_2fmCon', 'Neighborhood_BrkSide'],\n",
       " [0.7774205113156232, 'BldgType_2fmCon', 'Neighborhood_Edwards'],\n",
       " [0.7775447019713496, 'BldgType_2fmCon', 'Neighborhood_SWISU'],\n",
       " [0.7777907317356242, 'BldgType_2fmCon', 'Neighborhood_Timber'],\n",
       " [0.7773923650828304, 'BldgType_Duplex', 'KitchenQual_Gd'],\n",
       " [0.7776473593062333, 'BldgType_Duplex', 'MSZoning_RH'],\n",
       " [0.7794057657505274, 'BldgType_Duplex', 'Street_Grvl'],\n",
       " [0.7794057657505294, 'BldgType_Duplex', 'Street_Pave'],\n",
       " [0.7787636319069391, 'BldgType_Duplex', 'Neighborhood_Edwards'],\n",
       " [0.777498506216765, 'BldgType_Duplex', 'Neighborhood_NAmes'],\n",
       " [0.7774230726285868, 'BldgType_Duplex', 'Neighborhood_NWAmes'],\n",
       " [0.7776633715529696, 'BldgType_Duplex', 'Neighborhood_OldTown'],\n",
       " [0.777804619621679, 'BldgType_Duplex', 'Neighborhood_Sawyer'],\n",
       " [0.7776878626546478, 'BldgType_Duplex', 'Neighborhood_SawyerW'],\n",
       " [0.7776605713207321, 'BldgType_Twnhs', 'KitchenQual_Gd'],\n",
       " [0.7778192343062698, 'BldgType_Twnhs', 'KitchenQual_TA'],\n",
       " [0.7774417775294061, 'BldgType_Twnhs', 'SaleType_COD'],\n",
       " [0.7778435656507717, 'BldgType_Twnhs', 'MSZoning_RL'],\n",
       " [0.7775107835010132, 'BldgType_Twnhs', 'MSZoning_RM'],\n",
       " [0.7773817128043559, 'BldgType_Twnhs', 'Street_Pave'],\n",
       " [0.7774175702355882, 'BldgType_Twnhs', 'Neighborhood_Blueste'],\n",
       " [0.7774112675533931, 'BldgType_Twnhs', 'Neighborhood_BrDale'],\n",
       " [0.7774291055109722, 'BldgType_Twnhs', 'Neighborhood_Mitchel'],\n",
       " [0.7773880456001091, 'BldgType_Twnhs', 'Neighborhood_NPkVill'],\n",
       " [0.778183769948003, 'BldgType_Twnhs', 'Neighborhood_NridgHt'],\n",
       " [0.7774398318730743, 'BldgType_TwnhsE', 'KitchenQual_Ex'],\n",
       " [0.7775792832385948, 'BldgType_TwnhsE', 'KitchenQual_TA'],\n",
       " [0.7781894805869846, 'BldgType_TwnhsE', 'SaleType_Con'],\n",
       " [0.7787074225879491, 'BldgType_TwnhsE', 'SaleType_WD'],\n",
       " [0.7774783415503966, 'BldgType_TwnhsE', 'MSZoning_FV'],\n",
       " [0.778315740238884, 'BldgType_TwnhsE', 'MSZoning_RH'],\n",
       " [0.7797751983025839, 'BldgType_TwnhsE', 'MSZoning_RL'],\n",
       " [0.7779338366848169, 'BldgType_TwnhsE', 'MSZoning_RM'],\n",
       " [0.7773856034822914, 'BldgType_TwnhsE', 'Neighborhood_Blmngtn'],\n",
       " [0.7774112675533964, 'BldgType_TwnhsE', 'Neighborhood_BrDale'],\n",
       " [0.7802922446899225, 'BldgType_TwnhsE', 'Neighborhood_Crawfor'],\n",
       " [0.777682213798349, 'BldgType_TwnhsE', 'Neighborhood_Edwards'],\n",
       " [0.7774839543816872, 'BldgType_TwnhsE', 'Neighborhood_Mitchel'],\n",
       " [0.778315740238884, 'BldgType_TwnhsE', 'Neighborhood_NAmes'],\n",
       " [0.7773880456001044, 'BldgType_TwnhsE', 'Neighborhood_NPkVill'],\n",
       " [0.778730011643215, 'BldgType_TwnhsE', 'Neighborhood_NridgHt'],\n",
       " [0.7774783415503966, 'BldgType_TwnhsE', 'Neighborhood_Somerst'],\n",
       " [0.7822461647629877, 'BldgType_TwnhsE', 'Neighborhood_StoneBr'],\n",
       " [0.777792444307688, 'KitchenQual_Ex', 'SaleType_ConLI'],\n",
       " [0.780440407397043, 'KitchenQual_Ex', 'Neighborhood_ClearCr'],\n",
       " [0.784289792443676, 'KitchenQual_Ex', 'Neighborhood_Edwards'],\n",
       " [0.7774764683523748, 'KitchenQual_Ex', 'Neighborhood_Gilbert'],\n",
       " [0.7774865304937901, 'KitchenQual_Ex', 'Neighborhood_NWAmes'],\n",
       " [0.7801642405361774, 'KitchenQual_Ex', 'Neighborhood_NoRidge'],\n",
       " [0.7776316262375634, 'KitchenQual_Ex', 'Neighborhood_NridgHt'],\n",
       " [0.7773944155283818, 'KitchenQual_Fa', 'MSZoning_RM'],\n",
       " [0.7775135954237113, 'KitchenQual_Fa', 'Neighborhood_SWISU'],\n",
       " [0.7773865853718696, 'KitchenQual_Fa', 'Neighborhood_Sawyer'],\n",
       " [0.7777279428474753, 'KitchenQual_Gd', 'MSZoning_FV'],\n",
       " [0.7773822783459174, 'KitchenQual_Gd', 'Neighborhood_BrDale'],\n",
       " [0.7774506815679809, 'KitchenQual_Gd', 'Neighborhood_ClearCr'],\n",
       " [0.7779493922131471, 'KitchenQual_Gd', 'Neighborhood_CollgCr'],\n",
       " [0.7781195283330489, 'KitchenQual_Gd', 'Neighborhood_Crawfor'],\n",
       " [0.7774019866713807, 'KitchenQual_Gd', 'Neighborhood_NPkVill'],\n",
       " [0.7801042677766836, 'KitchenQual_Gd', 'Neighborhood_NoRidge'],\n",
       " [0.777631626237562, 'KitchenQual_Gd', 'Neighborhood_NridgHt'],\n",
       " [0.7775389413143751, 'KitchenQual_Gd', 'Neighborhood_Sawyer'],\n",
       " [0.7774339803055941, 'KitchenQual_Gd', 'Neighborhood_SawyerW'],\n",
       " [0.7779753875009454, 'KitchenQual_Gd', 'Neighborhood_Veenker'],\n",
       " [0.7776812089610069, 'KitchenQual_TA', 'MSZoning_FV'],\n",
       " [0.7773817128043191, 'KitchenQual_TA', 'Neighborhood_Blueste'],\n",
       " [0.7773952308395107, 'KitchenQual_TA', 'Neighborhood_BrDale'],\n",
       " [0.7777621561026569, 'KitchenQual_TA', 'Neighborhood_CollgCr'],\n",
       " [0.7780948546289822, 'KitchenQual_TA', 'Neighborhood_Crawfor'],\n",
       " [0.778240283566719, 'KitchenQual_TA', 'Neighborhood_Edwards'],\n",
       " [0.7775792240004689, 'KitchenQual_TA', 'Neighborhood_NAmes'],\n",
       " [0.7774516313575339, 'KitchenQual_TA', 'Neighborhood_NPkVill'],\n",
       " [0.7774694945395245, 'KitchenQual_TA', 'Neighborhood_Sawyer'],\n",
       " [0.7774339803055685, 'KitchenQual_TA', 'Neighborhood_SawyerW'],\n",
       " [0.7776812089610069, 'KitchenQual_TA', 'Neighborhood_Somerst'],\n",
       " [0.7783995834845684, 'KitchenQual_TA', 'Neighborhood_Veenker'],\n",
       " [0.7777450330739742, 'SaleType_COD', 'MSZoning_RL'],\n",
       " [0.7774668508851195, 'SaleType_COD', 'MSZoning_RM'],\n",
       " [0.7773817128043257, 'SaleType_COD', 'Street_Pave'],\n",
       " [0.7774175702355882, 'SaleType_COD', 'Neighborhood_Blueste'],\n",
       " [0.777396314668134, 'SaleType_COD', 'Neighborhood_BrDale'],\n",
       " [0.7773923650828304, 'SaleType_COD', 'Neighborhood_Mitchel'],\n",
       " [0.7774155428885876, 'SaleType_COD', 'Neighborhood_NAmes'],\n",
       " [0.7774241504421541, 'SaleType_COD', 'Neighborhood_NWAmes'],\n",
       " [0.7774180686253113, 'SaleType_COD', 'Neighborhood_OldTown'],\n",
       " [0.777418262974469, 'SaleType_COD', 'Neighborhood_SawyerW'],\n",
       " [0.7777269839515569, 'SaleType_COD', 'Neighborhood_Timber'],\n",
       " [0.777508844637717, 'SaleType_Con', 'MSZoning_FV'],\n",
       " [0.7781894805869846, 'SaleType_Con', 'MSZoning_RL'],\n",
       " [0.777508844637717, 'SaleType_Con', 'Neighborhood_Somerst'],\n",
       " [0.7781894805869846, 'SaleType_Con', 'Neighborhood_Veenker'],\n",
       " [0.7774191610696051, 'SaleType_ConLD', 'Neighborhood_Edwards'],\n",
       " [0.7774427802716577, 'SaleType_ConLD', 'Neighborhood_OldTown'],\n",
       " [0.7773817128043207, 'SaleType_ConLI', 'Street_Pave'],\n",
       " [0.777792444307688, 'SaleType_ConLI', 'Neighborhood_NridgHt'],\n",
       " [0.7773817128043184, 'SaleType_ConLw', 'Street_Pave'],\n",
       " [0.7773821798229963, 'SaleType_ConLw', 'Neighborhood_OldTown'],\n",
       " [0.77747179522874, 'SaleType_New', 'MSZoning_RM'],\n",
       " [0.7779390719477289, 'SaleType_New', 'Neighborhood_Crawfor'],\n",
       " [0.7829627554316956, 'SaleType_New', 'Neighborhood_Edwards'],\n",
       " [0.778146794685658, 'SaleType_New', 'Neighborhood_NridgHt'],\n",
       " [0.7775151150341827, 'SaleType_New', 'Neighborhood_Somerst'],\n",
       " [0.7806111405962992, 'SaleType_New', 'Neighborhood_StoneBr'],\n",
       " [0.777433786342808, 'SaleType_Oth', 'Neighborhood_Mitchel'],\n",
       " [0.7773963146681351, 'SaleType_WD', 'Neighborhood_BrDale'],\n",
       " [0.7796494798351349, 'SaleType_WD', 'Neighborhood_Edwards'],\n",
       " [0.777837948661468, 'SaleType_WD', 'Neighborhood_Mitchel'],\n",
       " [0.7774180768915955, 'SaleType_WD', 'Neighborhood_NAmes'],\n",
       " [0.7774241504423046, 'SaleType_WD', 'Neighborhood_NWAmes'],\n",
       " [0.7773817128043199, 'SaleType_WD', 'Neighborhood_NoRidge'],\n",
       " [0.7792397274533559, 'SaleType_WD', 'Neighborhood_NridgHt'],\n",
       " [0.7773817128043196, 'SaleType_WD', 'Neighborhood_SWISU'],\n",
       " [0.7794615136331151, 'SaleType_WD', 'Neighborhood_StoneBr'],\n",
       " [0.7773837347732502, 'SaleType_WD', 'Neighborhood_Veenker'],\n",
       " [0.777381712804331, 'MSZoning_FV', 'Street_Pave'],\n",
       " [0.777381712804331, 'MSZoning_FV', 'Neighborhood_Somerst'],\n",
       " [0.7773817128043187, 'MSZoning_RH', 'Street_Pave'],\n",
       " [0.778315740238884, 'MSZoning_RH', 'Neighborhood_NAmes'],\n",
       " [0.7777349738207369, 'MSZoning_RH', 'Neighborhood_SWISU'],\n",
       " [0.7783476106370488, 'MSZoning_RH', 'Neighborhood_SawyerW'],\n",
       " [0.7783763051438022, 'MSZoning_RL', 'Neighborhood_BrkSide'],\n",
       " [0.7773817128043259, 'MSZoning_RL', 'Neighborhood_ClearCr'],\n",
       " [0.7777742840582305, 'MSZoning_RL', 'Neighborhood_Crawfor'],\n",
       " [0.777444514816058, 'MSZoning_RL', 'Neighborhood_Edwards'],\n",
       " [0.7773817128045111, 'MSZoning_RL', 'Neighborhood_Gilbert'],\n",
       " [0.7782672914726054, 'MSZoning_RL', 'Neighborhood_Mitchel'],\n",
       " [0.77831574023881, 'MSZoning_RL', 'Neighborhood_NAmes'],\n",
       " [0.7773817128043192, 'MSZoning_RL', 'Neighborhood_NPkVill'],\n",
       " [0.777381712804527, 'MSZoning_RL', 'Neighborhood_NWAmes'],\n",
       " [0.7773817128043199, 'MSZoning_RL', 'Neighborhood_NoRidge'],\n",
       " [0.7775921299475393, 'MSZoning_RL', 'Neighborhood_NridgHt'],\n",
       " [0.7773980370430108, 'MSZoning_RL', 'Neighborhood_OldTown'],\n",
       " [0.7777349738207306, 'MSZoning_RL', 'Neighborhood_SWISU'],\n",
       " [0.7779804672030053, 'MSZoning_RL', 'Neighborhood_Sawyer'],\n",
       " [0.7783476106371552, 'MSZoning_RL', 'Neighborhood_SawyerW'],\n",
       " [0.7773817128043232, 'MSZoning_RL', 'Neighborhood_Timber'],\n",
       " [0.7773817128043191, 'MSZoning_RM', 'Neighborhood_Blueste'],\n",
       " [0.7783763051438125, 'MSZoning_RM', 'Neighborhood_BrkSide'],\n",
       " [0.7802922446899225, 'MSZoning_RM', 'Neighborhood_Crawfor'],\n",
       " [0.7775576686014671, 'MSZoning_RM', 'Neighborhood_Edwards'],\n",
       " [0.7782672914725842, 'MSZoning_RM', 'Neighborhood_Mitchel'],\n",
       " [0.7774374784089261, 'MSZoning_RM', 'Neighborhood_NridgHt'],\n",
       " [0.7773973314389344, 'MSZoning_RM', 'Neighborhood_OldTown'],\n",
       " [0.7779804672028324, 'MSZoning_RM', 'Neighborhood_Sawyer'],\n",
       " [0.7777070351484595, 'Street_Grvl', 'Neighborhood_Edwards'],\n",
       " [0.7779429831312145, 'Street_Grvl', 'Neighborhood_Timber'],\n",
       " [0.7773817128043191, 'Street_Pave', 'Neighborhood_Blueste'],\n",
       " [0.7773817128043701, 'Street_Pave', 'Neighborhood_BrkSide'],\n",
       " [0.7773817128043259, 'Street_Pave', 'Neighborhood_ClearCr'],\n",
       " [0.7773817128046023, 'Street_Pave', 'Neighborhood_CollgCr'],\n",
       " [0.7773817128044052, 'Street_Pave', 'Neighborhood_Crawfor'],\n",
       " [0.7780312796630069, 'Street_Pave', 'Neighborhood_Edwards'],\n",
       " [0.7773817128045111, 'Street_Pave', 'Neighborhood_Gilbert'],\n",
       " [0.7773817128043788, 'Street_Pave', 'Neighborhood_Mitchel'],\n",
       " [0.7773817128043192, 'Street_Pave', 'Neighborhood_NPkVill'],\n",
       " [0.777381712804527, 'Street_Pave', 'Neighborhood_NWAmes'],\n",
       " [0.7773817128043199, 'Street_Pave', 'Neighborhood_NoRidge'],\n",
       " [0.7773817128043442, 'Street_Pave', 'Neighborhood_NridgHt'],\n",
       " [0.7773817128043704, 'Street_Pave', 'Neighborhood_OldTown'],\n",
       " [0.7773817128043196, 'Street_Pave', 'Neighborhood_SWISU'],\n",
       " [0.7773817128045065, 'Street_Pave', 'Neighborhood_Sawyer'],\n",
       " [0.7773817128044465, 'Street_Pave', 'Neighborhood_SawyerW'],\n",
       " [0.7773817128043214, 'Street_Pave', 'Neighborhood_Somerst'],\n",
       " [0.7782130384039462, 'Street_Pave', 'Neighborhood_Timber']]"
      ]
     },
     "execution_count": 17,
     "metadata": {},
     "output_type": "execute_result"
    }
   ],
   "source": [
    "list_r2"
   ]
  },
  {
   "cell_type": "code",
   "execution_count": 26,
   "metadata": {},
   "outputs": [
    {
     "name": "stdout",
     "output_type": "stream",
     "text": [
      "[0.8093314939294878, 'LotArea', 'Neighborhood_Edwards']\n",
      "[0.8033414554230696, '1stFlrSF', 'Neighborhood_Edwards']\n",
      "[0.8077114235220242, 'GrLivArea', 'Neighborhood_Edwards']\n"
     ]
    }
   ],
   "source": [
    "for i in list_r2:\n",
    "    if i[0] > 0.8:\n",
    "        print(i)"
   ]
  },
  {
   "cell_type": "markdown",
   "metadata": {},
   "source": [
    "It looks like the top interactions involve the Neighborhood_Edwards feature so lets add the interaction between LotArea and Edwards to our model.\n",
    "\n",
    "We can interpret this feature as the relationship between LotArea and SalePrice when the house is in Edwards or not."
   ]
  },
  {
   "cell_type": "markdown",
   "metadata": {},
   "source": [
    "## Visualize the Interaction\n",
    "\n",
    "Separate all houses that are located in Edwards and those that are not. Run a linear regression on each population against `SalePrice`. Visualize the regression line and data points with price on the y axis and LotArea on the x axis."
   ]
  },
  {
   "cell_type": "code",
   "execution_count": null,
   "metadata": {},
   "outputs": [],
   "source": [
    "# Visualization code here"
   ]
  },
  {
   "cell_type": "markdown",
   "metadata": {},
   "source": [
    "## Build a final model with interactions"
   ]
  },
  {
   "cell_type": "markdown",
   "metadata": {},
   "source": [
    "Use 10-fold cross-validation to build a model using the above interaction. "
   ]
  },
  {
   "cell_type": "code",
   "execution_count": null,
   "metadata": {},
   "outputs": [],
   "source": [
    "# code here"
   ]
  },
  {
   "cell_type": "markdown",
   "metadata": {},
   "source": [
    "Our $R^2$ has increased considerably! Let's have a look in `statsmodels` to see if this interactions are significant."
   ]
  },
  {
   "cell_type": "code",
   "execution_count": null,
   "metadata": {},
   "outputs": [],
   "source": [
    "# code here"
   ]
  },
  {
   "cell_type": "markdown",
   "metadata": {},
   "source": [
    "What is your conclusion here?"
   ]
  },
  {
   "cell_type": "code",
   "execution_count": null,
   "metadata": {},
   "outputs": [],
   "source": [
    "# formulate your conclusion"
   ]
  },
  {
   "cell_type": "markdown",
   "metadata": {},
   "source": [
    "## Summary"
   ]
  },
  {
   "cell_type": "markdown",
   "metadata": {},
   "source": [
    "You should now understand how to include interaction effects in your model! As you can see, interactions can have a strong impact on linear regression models, and they should always be considered when you are constructing your models."
   ]
  }
 ],
 "metadata": {
  "kernelspec": {
   "display_name": "Python 3",
   "language": "python",
   "name": "python3"
  },
  "language_info": {
   "codemirror_mode": {
    "name": "ipython",
    "version": 3
   },
   "file_extension": ".py",
   "mimetype": "text/x-python",
   "name": "python",
   "nbconvert_exporter": "python",
   "pygments_lexer": "ipython3",
   "version": "3.6.9"
  }
 },
 "nbformat": 4,
 "nbformat_minor": 2
}
